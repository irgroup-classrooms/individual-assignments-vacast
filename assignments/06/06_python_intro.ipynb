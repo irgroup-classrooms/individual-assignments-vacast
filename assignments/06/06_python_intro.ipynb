{
 "cells": [
  {
   "cell_type": "markdown",
   "metadata": {},
   "source": [
    "# DIS08 / OR92 Data Modeling: Python - Introduction (Setup, file management, etc.)"
   ]
  },
  {
   "cell_type": "markdown",
   "metadata": {},
   "source": [
    "In this lecture, we’ll cover and recap the basics of Python programming, including:\n",
    "\n",
    "- Python data structures: lists, tuples, dictionaries, and sets.\n",
    "- Basic file management: reading from and writing to files.\n",
    "- String handling: manipulation of text data and regular expressions.\n",
    "\n",
    "In the lab assignments, you will setup your Python development environment, rerun this notebook, and get started with the `pandas` library.\n",
    "\n",
    "If you would like to study Python more in-depth, we recommend the book [Automate the Boring Stuff With Python](https://automatetheboringstuff.com/). This book also inspired some of the contents in this notebook."
   ]
  },
  {
   "cell_type": "markdown",
   "metadata": {},
   "source": [
    "1. Basic Syntax"
   ]
  },
  {
   "cell_type": "code",
   "execution_count": 1,
   "metadata": {},
   "outputs": [],
   "source": [
    "# This is a comment in Python"
   ]
  },
  {
   "cell_type": "code",
   "execution_count": 2,
   "metadata": {},
   "outputs": [
    {
     "name": "stdout",
     "output_type": "stream",
     "text": [
      "Hello, World!\n"
     ]
    }
   ],
   "source": [
    "# Print \"Hello, World!\" to the console\n",
    "print(\"Hello, World!\")  "
   ]
  },
  {
   "cell_type": "code",
   "execution_count": 3,
   "metadata": {},
   "outputs": [
    {
     "data": {
      "text/plain": [
       "5"
      ]
     },
     "execution_count": 3,
     "metadata": {},
     "output_type": "execute_result"
    }
   ],
   "source": [
    "# Variable assignment\n",
    "x = 5  \n",
    "x"
   ]
  },
  {
   "cell_type": "markdown",
   "metadata": {},
   "source": [
    "2. Data Types"
   ]
  },
  {
   "cell_type": "code",
   "execution_count": 4,
   "metadata": {},
   "outputs": [
    {
     "data": {
      "text/plain": [
       "int"
      ]
     },
     "execution_count": 4,
     "metadata": {},
     "output_type": "execute_result"
    }
   ],
   "source": [
    "# Integer type\n",
    "integer_num = 10\n",
    "type(integer_num)"
   ]
  },
  {
   "cell_type": "code",
   "execution_count": 5,
   "metadata": {},
   "outputs": [
    {
     "data": {
      "text/plain": [
       "float"
      ]
     },
     "execution_count": 5,
     "metadata": {},
     "output_type": "execute_result"
    }
   ],
   "source": [
    "# Float type\n",
    "float_num = 3.14\n",
    "type(float_num)"
   ]
  },
  {
   "cell_type": "code",
   "execution_count": 6,
   "metadata": {},
   "outputs": [
    {
     "data": {
      "text/plain": [
       "str"
      ]
     },
     "execution_count": 6,
     "metadata": {},
     "output_type": "execute_result"
    }
   ],
   "source": [
    "# String type\n",
    "str_val = \"Python\"\n",
    "type(str_val)"
   ]
  },
  {
   "cell_type": "markdown",
   "metadata": {},
   "source": [
    "3. Basic Operators"
   ]
  },
  {
   "cell_type": "code",
   "execution_count": 7,
   "metadata": {},
   "outputs": [],
   "source": [
    "a = 10\n",
    "b = 3"
   ]
  },
  {
   "cell_type": "code",
   "execution_count": 8,
   "metadata": {},
   "outputs": [
    {
     "name": "stdout",
     "output_type": "stream",
     "text": [
      "13\n"
     ]
    }
   ],
   "source": [
    "# Addition\n",
    "print(a + b)"
   ]
  },
  {
   "cell_type": "code",
   "execution_count": 9,
   "metadata": {},
   "outputs": [
    {
     "name": "stdout",
     "output_type": "stream",
     "text": [
      "7\n"
     ]
    }
   ],
   "source": [
    "# Subtraction\n",
    "print(a - b)"
   ]
  },
  {
   "cell_type": "code",
   "execution_count": 10,
   "metadata": {},
   "outputs": [
    {
     "name": "stdout",
     "output_type": "stream",
     "text": [
      "30\n"
     ]
    }
   ],
   "source": [
    "# Multiplication\n",
    "print(a * b)"
   ]
  },
  {
   "cell_type": "code",
   "execution_count": 11,
   "metadata": {},
   "outputs": [
    {
     "name": "stdout",
     "output_type": "stream",
     "text": [
      "3.3333333333333335\n"
     ]
    }
   ],
   "source": [
    "# Division\n",
    "print(a / b)"
   ]
  },
  {
   "cell_type": "code",
   "execution_count": 12,
   "metadata": {},
   "outputs": [
    {
     "name": "stdout",
     "output_type": "stream",
     "text": [
      "1\n"
     ]
    }
   ],
   "source": [
    "# Modulus (remainder)\n",
    "print(a % b)"
   ]
  },
  {
   "cell_type": "code",
   "execution_count": 13,
   "metadata": {},
   "outputs": [
    {
     "name": "stdout",
     "output_type": "stream",
     "text": [
      "1000\n"
     ]
    }
   ],
   "source": [
    "# Exponentiation\n",
    "print(a ** b)"
   ]
  },
  {
   "cell_type": "markdown",
   "metadata": {},
   "source": [
    "4. Control Structures"
   ]
  },
  {
   "cell_type": "code",
   "execution_count": 14,
   "metadata": {},
   "outputs": [
    {
     "name": "stdout",
     "output_type": "stream",
     "text": [
      "Positive\n"
     ]
    }
   ],
   "source": [
    "# If-Else statement\n",
    "x = 5\n",
    "if x > 0:\n",
    "    print(\"Positive\")\n",
    "elif x < 0:\n",
    "    print(\"Negative\")\n",
    "else:\n",
    "    print(\"Zero\")\n"
   ]
  },
  {
   "cell_type": "code",
   "execution_count": 15,
   "metadata": {},
   "outputs": [
    {
     "name": "stdout",
     "output_type": "stream",
     "text": [
      "0\n",
      "1\n",
      "2\n",
      "3\n",
      "4\n"
     ]
    }
   ],
   "source": [
    "# For loop\n",
    "for i in range(5):\n",
    "    print(i)"
   ]
  },
  {
   "cell_type": "code",
   "execution_count": 16,
   "metadata": {},
   "outputs": [
    {
     "name": "stdout",
     "output_type": "stream",
     "text": [
      "0\n",
      "1\n",
      "2\n",
      "3\n",
      "4\n"
     ]
    }
   ],
   "source": [
    "# While loop\n",
    "i = 0\n",
    "while i < 5:\n",
    "    print(i)\n",
    "    i += 1"
   ]
  },
  {
   "cell_type": "markdown",
   "metadata": {},
   "source": [
    "## Data Structures"
   ]
  },
  {
   "cell_type": "code",
   "execution_count": 17,
   "metadata": {},
   "outputs": [
    {
     "name": "stdout",
     "output_type": "stream",
     "text": [
      "1\n",
      "6\n",
      "John\n",
      "{'apple', 'banana', 'cherry'}\n"
     ]
    }
   ],
   "source": [
    "# List\n",
    "my_list = [1, 2, 3, 4, 5]\n",
    "print(my_list[0])  # Accessing elements\n",
    "\n",
    "# Tuple (immutable list)\n",
    "my_tuple = (6, 7, 8)\n",
    "print(my_tuple[0])\n",
    "\n",
    "# Dictionary (key-value pairs)\n",
    "my_dict = {\"name\": \"John\", \"age\": 30, \"city\": \"New York\"}\n",
    "print(my_dict[\"name\"])\n",
    "\n",
    "# Set\n",
    "my_set = {\"apple\", \"banana\", \"cherry\"}\n",
    "print(my_set)\n",
    "\n"
   ]
  },
  {
   "cell_type": "markdown",
   "metadata": {},
   "source": [
    "A list is a collection which is ordered and changeable. It allows duplicate members."
   ]
  },
  {
   "cell_type": "code",
   "execution_count": 18,
   "metadata": {},
   "outputs": [
    {
     "name": "stdout",
     "output_type": "stream",
     "text": [
      "['apple', 'banana', 'cherry']\n",
      "['apple', 'banana', 'cherry', 'orange']\n",
      "banana\n",
      "['apple', 'cherry', 'orange']\n"
     ]
    }
   ],
   "source": [
    "# Creating a list\n",
    "fruits = [\"apple\", \"banana\", \"cherry\"]\n",
    "print(fruits)\n",
    "\n",
    "# Adding an item\n",
    "fruits.append(\"orange\")\n",
    "print(fruits)\n",
    "\n",
    "# Accessing items\n",
    "print(fruits[1])\n",
    "\n",
    "# Removing an item\n",
    "fruits.remove(\"banana\")\n",
    "print(fruits)"
   ]
  },
  {
   "cell_type": "markdown",
   "metadata": {},
   "source": [
    "A tuple is a collection which is ordered but unchangeable (immutable). It allows duplicate members."
   ]
  },
  {
   "cell_type": "code",
   "execution_count": 19,
   "metadata": {},
   "outputs": [
    {
     "name": "stdout",
     "output_type": "stream",
     "text": [
      "('apple', 'banana', 'cherry')\n",
      "banana\n"
     ]
    }
   ],
   "source": [
    "# Creating a tuple\n",
    "my_tuple = (\"apple\", \"banana\", \"cherry\")\n",
    "print(my_tuple)\n",
    "\n",
    "# Accessing items\n",
    "print(my_tuple[1])\n",
    "\n",
    "# Tuples are immutable, so the following code will cause an error:\n",
    "# my_tuple[1] = \"orange\""
   ]
  },
  {
   "cell_type": "markdown",
   "metadata": {},
   "source": [
    "A dictionary is a collection which is unordered, changeable, and indexed. It does not allow duplicates."
   ]
  },
  {
   "cell_type": "code",
   "execution_count": 20,
   "metadata": {},
   "outputs": [
    {
     "name": "stdout",
     "output_type": "stream",
     "text": [
      "{'name': 'Alice', 'age': 25, 'city': 'New York'}\n",
      "Alice\n",
      "{'name': 'Alice', 'age': 26, 'city': 'New York'}\n"
     ]
    }
   ],
   "source": [
    "# Creating a dictionary\n",
    "person = {\n",
    "    \"name\": \"Alice\",\n",
    "    \"age\": 25,\n",
    "    \"city\": \"New York\"\n",
    "}\n",
    "print(person)\n",
    "\n",
    "# Accessing values\n",
    "print(person[\"name\"])\n",
    "\n",
    "# Modifying a value\n",
    "person[\"age\"] = 26\n",
    "print(person)"
   ]
  },
  {
   "cell_type": "markdown",
   "metadata": {},
   "source": [
    "6. Functions"
   ]
  },
  {
   "cell_type": "code",
   "execution_count": 21,
   "metadata": {},
   "outputs": [
    {
     "name": "stdout",
     "output_type": "stream",
     "text": [
      "Hello, Alice!\n"
     ]
    }
   ],
   "source": [
    "def greet(name):\n",
    "    \"\"\"This function greets the person passed in as parameter\"\"\"\n",
    "    print(f\"Hello, {name}!\")\n",
    "\n",
    "greet(\"Alice\")  # Output: Hello, Alice!"
   ]
  },
  {
   "cell_type": "markdown",
   "metadata": {},
   "source": [
    "A set is a collection which is unordered, unindexed, and does not allow duplicate members."
   ]
  },
  {
   "cell_type": "code",
   "execution_count": 22,
   "metadata": {},
   "outputs": [
    {
     "name": "stdout",
     "output_type": "stream",
     "text": [
      "{'apple', 'banana', 'cherry'}\n",
      "{'orange', 'apple', 'banana', 'cherry'}\n",
      "{'orange', 'apple', 'cherry'}\n"
     ]
    }
   ],
   "source": [
    "# Creating a set\n",
    "my_set = {\"apple\", \"banana\", \"cherry\"}\n",
    "print(my_set)\n",
    "\n",
    "# Adding an item\n",
    "my_set.add(\"orange\")\n",
    "print(my_set)\n",
    "\n",
    "# Removing an item\n",
    "my_set.remove(\"banana\")\n",
    "print(my_set)"
   ]
  },
  {
   "cell_type": "markdown",
   "metadata": {},
   "source": [
    "## Basic File Management in Python"
   ]
  },
  {
   "cell_type": "markdown",
   "metadata": {},
   "source": [
    "You can also use many command line tools in a Jupyter notebook. We use `echo` to create a first text file."
   ]
  },
  {
   "cell_type": "code",
   "execution_count": 23,
   "metadata": {},
   "outputs": [],
   "source": [
    "!echo \"This is the beginning of a new file!\\n\" >> example.txt"
   ]
  },
  {
   "cell_type": "markdown",
   "metadata": {},
   "source": [
    "To read a file, use the open() function in reading mode ('r')."
   ]
  },
  {
   "cell_type": "code",
   "execution_count": 24,
   "metadata": {},
   "outputs": [
    {
     "name": "stdout",
     "output_type": "stream",
     "text": [
      "\"This is the beginning of a new file!\\n\" \n",
      "\n"
     ]
    }
   ],
   "source": [
    "# Reading from a file\n",
    "file = open(\"example.txt\", \"r\")\n",
    "\n",
    "# Read the entire content of the file\n",
    "content = file.read()\n",
    "print(content)\n",
    "\n",
    "# Always remember to close the file after you're done\n",
    "file.close()"
   ]
  },
  {
   "cell_type": "markdown",
   "metadata": {},
   "source": [
    "To write to a file, use the open() function in write mode ('w')."
   ]
  },
  {
   "cell_type": "code",
   "execution_count": 25,
   "metadata": {},
   "outputs": [],
   "source": [
    "# Writing to a file\n",
    "file = open(\"example.txt\", \"w\")\n",
    "file.write(\"Hello, World!\\nThis is a new line.\")\n",
    "file.close()"
   ]
  },
  {
   "cell_type": "markdown",
   "metadata": {},
   "source": [
    "You can also append data to an existing file using append mode ('a')."
   ]
  },
  {
   "cell_type": "code",
   "execution_count": 26,
   "metadata": {},
   "outputs": [],
   "source": [
    "# Appending to a file\n",
    "file = open(\"example.txt\", \"a\")\n",
    "file.write(\"\\nThis is an appended line.\")\n",
    "file.close()"
   ]
  },
  {
   "cell_type": "markdown",
   "metadata": {},
   "source": [
    "It’s a good practice to use the `with` statement when working with files to ensure the file is properly closed after the operations."
   ]
  },
  {
   "cell_type": "code",
   "execution_count": 27,
   "metadata": {},
   "outputs": [
    {
     "name": "stdout",
     "output_type": "stream",
     "text": [
      "Hello, World!\n",
      "This is a new line.\n",
      "This is an appended line.\n"
     ]
    }
   ],
   "source": [
    "# Using 'with' statement to open and read a file\n",
    "with open(\"example.txt\", \"r\") as file:\n",
    "    content = file.read()\n",
    "    print(content)"
   ]
  },
  {
   "cell_type": "markdown",
   "metadata": {},
   "source": [
    "## String Handling in Python"
   ]
  },
  {
   "cell_type": "markdown",
   "metadata": {},
   "source": [
    "Python provides a variety of methods for manipulating and handling strings."
   ]
  },
  {
   "cell_type": "code",
   "execution_count": 28,
   "metadata": {},
   "outputs": [
    {
     "name": "stdout",
     "output_type": "stream",
     "text": [
      "Hello, Alice!\n"
     ]
    }
   ],
   "source": [
    "# Concatenating strings\n",
    "greeting = \"Hello\"\n",
    "name = \"Alice\"\n",
    "message = greeting + \", \" + name + \"!\"\n",
    "print(message)"
   ]
  },
  {
   "cell_type": "markdown",
   "metadata": {},
   "source": [
    "**String Formatting:** You can format strings using the format() method or f-strings (in Python 3.6+)."
   ]
  },
  {
   "cell_type": "code",
   "execution_count": 29,
   "metadata": {},
   "outputs": [
    {
     "name": "stdout",
     "output_type": "stream",
     "text": [
      "Hello, Alice!\n",
      "Hello, Alice!\n"
     ]
    }
   ],
   "source": [
    "# Using format method\n",
    "message = \"Hello, {}!\".format(name)\n",
    "print(message)\n",
    "\n",
    "# Using f-strings (Python 3.6+)\n",
    "message = f\"Hello, {name}!\"\n",
    "print(message)"
   ]
  },
  {
   "cell_type": "markdown",
   "metadata": {},
   "source": [
    "**String Methods:** Some common string methods in Python include upper(), lower(), replace(), and split()."
   ]
  },
  {
   "cell_type": "code",
   "execution_count": 30,
   "metadata": {},
   "outputs": [
    {
     "name": "stdout",
     "output_type": "stream",
     "text": [
      "HELLO, WORLD!\n",
      "hello, world!\n",
      "Hello, Python!\n",
      "['Hello', 'World!']\n"
     ]
    }
   ],
   "source": [
    "# Changing case\n",
    "text = \"Hello, World!\"\n",
    "print(text.upper())\n",
    "print(text.lower())\n",
    "\n",
    "# Replacing parts of a string\n",
    "print(text.replace(\"World\", \"Python\"))\n",
    "\n",
    "# Splitting a string\n",
    "words = text.split(\", \")\n",
    "print(words)"
   ]
  },
  {
   "cell_type": "markdown",
   "metadata": {},
   "source": [
    "**Regular expressions:** The re.search() function searches for a match in a string."
   ]
  },
  {
   "cell_type": "code",
   "execution_count": 31,
   "metadata": {},
   "outputs": [
    {
     "name": "stdout",
     "output_type": "stream",
     "text": [
      "Match found!\n"
     ]
    }
   ],
   "source": [
    "import re\n",
    "\n",
    "# Search for the word 'Python' in a string\n",
    "text = \"Welcome to Python programming!\"\n",
    "pattern = \"Python\"\n",
    "\n",
    "# Search for the pattern\n",
    "match = re.search(pattern, text)\n",
    "\n",
    "# The re.search() function looks for the word “Python” in the text. If found, it returns a match object, otherwise None.\n",
    "if match:\n",
    "    print(\"Match found!\")\n",
    "else:\n",
    "    print(\"No match.\")"
   ]
  },
  {
   "cell_type": "markdown",
   "metadata": {},
   "source": [
    "## Quiz time!"
   ]
  },
  {
   "cell_type": "markdown",
   "metadata": {},
   "source": [
    "**Question:** What will be the output of the following code?"
   ]
  },
  {
   "cell_type": "code",
   "execution_count": 32,
   "metadata": {},
   "outputs": [
    {
     "name": "stdout",
     "output_type": "stream",
     "text": [
      "banana\n"
     ]
    }
   ],
   "source": [
    "fruits = [\"apple\", \"banana\", \"cherry\"]\n",
    "fruits.append(\"orange\")\n",
    "print(fruits[1])"
   ]
  },
  {
   "cell_type": "markdown",
   "metadata": {},
   "source": [
    "A) \"apple\"  \n",
    "B) \"banana\"  \n",
    "C) \"cherry\"  \n",
    "D) [\"apple\", \"banana\", \"cherry\", \"orange\"]"
   ]
  },
  {
   "cell_type": "markdown",
   "metadata": {},
   "source": [
    "**Question:** What error will the following code produce?"
   ]
  },
  {
   "cell_type": "code",
   "execution_count": 33,
   "metadata": {},
   "outputs": [
    {
     "ename": "TypeError",
     "evalue": "'tuple' object does not support item assignment",
     "output_type": "error",
     "traceback": [
      "\u001b[1;31m---------------------------------------------------------------------------\u001b[0m",
      "\u001b[1;31mTypeError\u001b[0m                                 Traceback (most recent call last)",
      "\u001b[1;32m~\\AppData\\Local\\Temp/ipykernel_21872/224675844.py\u001b[0m in \u001b[0;36m<module>\u001b[1;34m\u001b[0m\n\u001b[0;32m      1\u001b[0m \u001b[0mcolors\u001b[0m \u001b[1;33m=\u001b[0m \u001b[1;33m(\u001b[0m\u001b[1;34m\"red\"\u001b[0m\u001b[1;33m,\u001b[0m \u001b[1;34m\"green\"\u001b[0m\u001b[1;33m,\u001b[0m \u001b[1;34m\"blue\"\u001b[0m\u001b[1;33m)\u001b[0m\u001b[1;33m\u001b[0m\u001b[1;33m\u001b[0m\u001b[0m\n\u001b[1;32m----> 2\u001b[1;33m \u001b[0mcolors\u001b[0m\u001b[1;33m[\u001b[0m\u001b[1;36m1\u001b[0m\u001b[1;33m]\u001b[0m \u001b[1;33m=\u001b[0m \u001b[1;34m\"yellow\"\u001b[0m\u001b[1;33m\u001b[0m\u001b[1;33m\u001b[0m\u001b[0m\n\u001b[0m",
      "\u001b[1;31mTypeError\u001b[0m: 'tuple' object does not support item assignment"
     ]
    }
   ],
   "source": [
    "colors = (\"red\", \"green\", \"blue\")\n",
    "colors[1] = \"yellow\""
   ]
  },
  {
   "cell_type": "markdown",
   "metadata": {},
   "source": [
    "A) TypeError: 'tuple' object does not support item assignment  \n",
    "B) IndexError: tuple index out of range  \n",
    "C) No error, it works fine  \n",
    "D) AttributeError: 'tuple' object has no attribute 'append'"
   ]
  },
  {
   "cell_type": "markdown",
   "metadata": {},
   "source": [
    "**Question:** What will be the value of car[\"year\"] after running the following code?"
   ]
  },
  {
   "cell_type": "code",
   "execution_count": 34,
   "metadata": {},
   "outputs": [
    {
     "name": "stdout",
     "output_type": "stream",
     "text": [
      "2022\n"
     ]
    }
   ],
   "source": [
    "car = {\n",
    "    \"brand\": \"Ford\",\n",
    "    \"model\": \"Mustang\",\n",
    "    \"year\": 1964\n",
    "}\n",
    "car[\"year\"] = 2022\n",
    "print(car[\"year\"])"
   ]
  },
  {
   "cell_type": "markdown",
   "metadata": {},
   "source": [
    "A) 1964  \n",
    "B) 2022  \n",
    "C) None  \n",
    "D) KeyError: 'year'"
   ]
  },
  {
   "cell_type": "markdown",
   "metadata": {},
   "source": [
    "**Question:** What will happen if the following code is executed, and example.txt doesn’t exist in the directory?"
   ]
  },
  {
   "cell_type": "code",
   "execution_count": 35,
   "metadata": {},
   "outputs": [
    {
     "name": "stdout",
     "output_type": "stream",
     "text": [
      "Hello, World!\n",
      "This is a new line.\n",
      "This is an appended line.\n"
     ]
    }
   ],
   "source": [
    "with open(\"example.txt\", \"r\") as file:\n",
    "    content = file.read()\n",
    "    print(content)"
   ]
  },
  {
   "cell_type": "markdown",
   "metadata": {},
   "source": [
    "A) It will create a new file named example.txt.  \n",
    "B) It will throw a FileNotFoundError.  \n",
    "C) It will print an empty string.  \n",
    "D) It will print None.  "
   ]
  },
  {
   "cell_type": "markdown",
   "metadata": {},
   "source": [
    "**Question:** What will be the value of message in the following code?"
   ]
  },
  {
   "cell_type": "code",
   "execution_count": 36,
   "metadata": {},
   "outputs": [
    {
     "name": "stdout",
     "output_type": "stream",
     "text": [
      "Hello, Alice!\n"
     ]
    }
   ],
   "source": [
    "name = \"Alice\"\n",
    "greeting = \"Hello\"\n",
    "message = greeting + \", \" + name + \"!\"\n",
    "print(message)"
   ]
  },
  {
   "cell_type": "markdown",
   "metadata": {},
   "source": [
    "A) \"Hello Alice\"  \n",
    "B) \"Hello, Alice!\"  \n",
    "C) \"Hello Alice!\"  \n",
    "D) \", Alice!\""
   ]
  },
  {
   "cell_type": "markdown",
   "metadata": {},
   "source": [
    "**Question:** What will the following code output?"
   ]
  },
  {
   "cell_type": "code",
   "execution_count": 37,
   "metadata": {},
   "outputs": [
    {
     "name": "stdout",
     "output_type": "stream",
     "text": [
      "WELCOME TO PYTHON\n"
     ]
    }
   ],
   "source": [
    "text = \"Welcome to Python\"\n",
    "print(text.upper())"
   ]
  },
  {
   "cell_type": "markdown",
   "metadata": {},
   "source": [
    "A) WELCOME TO PYTHON  \n",
    "B) welcome to python  \n",
    "C) Welcome To Python  \n",
    "D) Welcome to python"
   ]
  },
  {
   "cell_type": "markdown",
   "metadata": {},
   "source": [
    "**Question:** What happens if you try to add a duplicate item to a set?"
   ]
  },
  {
   "cell_type": "code",
   "execution_count": 38,
   "metadata": {},
   "outputs": [
    {
     "name": "stdout",
     "output_type": "stream",
     "text": [
      "{'apple', 'banana', 'cherry'}\n"
     ]
    }
   ],
   "source": [
    "my_set = {\"apple\", \"banana\", \"cherry\"}\n",
    "my_set.add(\"banana\")\n",
    "print(my_set)"
   ]
  },
  {
   "cell_type": "markdown",
   "metadata": {},
   "source": [
    "A) The set will now contain two \"banana\" items.  \n",
    "B) The set will raise an error.  \n",
    "C) The set will remain unchanged.   \n",
    "D) The set will reorder itself."
   ]
  },
  {
   "cell_type": "markdown",
   "metadata": {},
   "source": [
    "**Question:** What is the correct way to format a string using f-strings in the following code?"
   ]
  },
  {
   "cell_type": "code",
   "execution_count": 39,
   "metadata": {},
   "outputs": [
    {
     "name": "stdout",
     "output_type": "stream",
     "text": [
      "My name is ... and I am ... years old.\n"
     ]
    }
   ],
   "source": [
    "name = \"Alice\"\n",
    "age = 25\n",
    "message = f\"My name is ... and I am ... years old.\"\n",
    "print(message)"
   ]
  },
  {
   "cell_type": "markdown",
   "metadata": {},
   "source": [
    "A) f\"My name is {name} and I am {age} years old.\"  \n",
    "B) f\"My name is name and I am age years old.\"  \n",
    "C) \"My name is {name} and I am {age} years old.\"  \n",
    "D) \"My name is name and I am age years old.\""
   ]
  },
  {
   "cell_type": "markdown",
   "metadata": {},
   "source": [
    "**Question:** What will be the output of the following code?"
   ]
  },
  {
   "cell_type": "code",
   "execution_count": 40,
   "metadata": {},
   "outputs": [
    {
     "name": "stdout",
     "output_type": "stream",
     "text": [
      "40\n"
     ]
    }
   ],
   "source": [
    "numbers = [10, 20, 30, 40, 50]\n",
    "print(numbers[-2])"
   ]
  },
  {
   "cell_type": "markdown",
   "metadata": {},
   "source": [
    "A) 20  \n",
    "B) 40  \n",
    "C) 30  \n",
    "D) 50\n"
   ]
  },
  {
   "cell_type": "markdown",
   "metadata": {},
   "source": [
    "**Question:** What will the following code output?"
   ]
  },
  {
   "cell_type": "code",
   "execution_count": 41,
   "metadata": {},
   "outputs": [
    {
     "name": "stdout",
     "output_type": "stream",
     "text": [
      "False\n"
     ]
    }
   ],
   "source": [
    "person = {\n",
    "    \"name\": \"John\",\n",
    "    \"age\": 30\n",
    "}\n",
    "print(\"height\" in person)"
   ]
  },
  {
   "cell_type": "markdown",
   "metadata": {},
   "source": [
    "A) True  \n",
    "B) False  \n",
    "C) None  \n",
    "D) KeyError: 'height'"
   ]
  },
  {
   "cell_type": "markdown",
   "metadata": {},
   "source": [
    "## Lab Assignments\n",
    "\n",
    "Download this notebook from Moodle and rerun the examples from today's lecture. If you can execute all of the code cells above you are done! The setup guide below will help you to get started!\n",
    "\n",
    "Once, you have setup your Python/Jupyter environment, please do the following task:\n",
    "\n",
    "- Download this [dataset](https://librarycarpentry.org/lc-python-intro/files/data.zip) and extract it (do not commit it to this repository).\n",
    "- Get familiar with the [pandas](https://pandas.pydata.org/) library and install it in your Python environment.\n",
    "- Load one or more of the CSV files in the data/ directory as a DataFrame.\n",
    "- Use the functions `info()`, `head()`, `tail()`, `describe()`, and the variable `columns` to get some basic information about the data. Also document and describe the outputs.\n",
    "- How do you get the first/last ten rows of the DataFrame?\n",
    "- How do you get the rows between row 30 and row 40?\n",
    "- How do you get a specific column, e.g., 'year'? What kind of `type()` has the column?\n",
    "- What is the `*.pkl` file? How do load it into your program and what are the data contents in it?\n",
    "- What is the purpose of `.loc()` and `.iloc()`?\n",
    "- How do you sort values in a column?\n",
    "\n",
    "When you have completed the tasks, please commit this notebook to your GitHub repository in the directory `assignments/06/`.\n"
   ]
  },
  {
   "cell_type": "code",
   "execution_count": 48,
   "metadata": {},
   "outputs": [],
   "source": [
    "import pandas as pd\n",
    "df22 = pd.read_csv(\"data/2022_circ.csv\")\n",
    "df11 = pd.read_csv(\"data/2011_circ.csv\")"
   ]
  },
  {
   "cell_type": "code",
   "execution_count": 53,
   "metadata": {},
   "outputs": [
    {
     "name": "stdout",
     "output_type": "stream",
     "text": [
      "<class 'pandas.core.frame.DataFrame'>\n",
      "RangeIndex: 81 entries, 0 to 80\n",
      "Data columns (total 17 columns):\n",
      " #   Column     Non-Null Count  Dtype  \n",
      "---  ------     --------------  -----  \n",
      " 0   branch     81 non-null     object \n",
      " 1   address    81 non-null     object \n",
      " 2   city       81 non-null     object \n",
      " 3   zip code   81 non-null     float64\n",
      " 4   january    81 non-null     int64  \n",
      " 5   february   81 non-null     int64  \n",
      " 6   march      81 non-null     int64  \n",
      " 7   april      81 non-null     int64  \n",
      " 8   may        81 non-null     int64  \n",
      " 9   june       81 non-null     int64  \n",
      " 10  july       81 non-null     int64  \n",
      " 11  august     81 non-null     int64  \n",
      " 12  september  81 non-null     int64  \n",
      " 13  october    81 non-null     int64  \n",
      " 14  november   81 non-null     int64  \n",
      " 15  december   81 non-null     int64  \n",
      " 16  ytd        81 non-null     int64  \n",
      "dtypes: float64(1), int64(13), object(3)\n",
      "memory usage: 10.9+ KB\n"
     ]
    },
    {
     "data": {
      "text/plain": [
       "Index(['branch', 'address', 'city', 'zip code', 'january', 'february', 'march',\n",
       "       'april', 'may', 'june', 'july', 'august', 'september', 'october',\n",
       "       'november', 'december', 'ytd'],\n",
       "      dtype='object')"
      ]
     },
     "execution_count": 53,
     "metadata": {},
     "output_type": "execute_result"
    }
   ],
   "source": [
    "#Übersicht der Datenstruktur\n",
    "df22.info()\n",
    "\n",
    "#Erste 5 Zeilen anzeigen\n",
    "df22.head()\n",
    "\n",
    "#Letzte 5 Zeilen anzeigen\n",
    "df22.tail()\n",
    "\n",
    "#Statistische Übersicht\n",
    "df22.describe()\n",
    "\n",
    "#Spaltennamen auflisten\n",
    "df22.columns"
   ]
  },
  {
   "cell_type": "code",
   "execution_count": 52,
   "metadata": {},
   "outputs": [
    {
     "name": "stdout",
     "output_type": "stream",
     "text": [
      "<class 'pandas.core.frame.DataFrame'>\n",
      "RangeIndex: 80 entries, 0 to 79\n",
      "Data columns (total 17 columns):\n",
      " #   Column     Non-Null Count  Dtype  \n",
      "---  ------     --------------  -----  \n",
      " 0   branch     80 non-null     object \n",
      " 1   address    80 non-null     object \n",
      " 2   city       80 non-null     object \n",
      " 3   zip code   80 non-null     float64\n",
      " 4   january    80 non-null     int64  \n",
      " 5   february   80 non-null     int64  \n",
      " 6   march      80 non-null     int64  \n",
      " 7   april      80 non-null     int64  \n",
      " 8   may        80 non-null     int64  \n",
      " 9   june       80 non-null     int64  \n",
      " 10  july       80 non-null     int64  \n",
      " 11  august     80 non-null     int64  \n",
      " 12  september  80 non-null     int64  \n",
      " 13  october    80 non-null     int64  \n",
      " 14  november   80 non-null     int64  \n",
      " 15  december   80 non-null     int64  \n",
      " 16  ytd        80 non-null     int64  \n",
      "dtypes: float64(1), int64(13), object(3)\n",
      "memory usage: 10.8+ KB\n"
     ]
    },
    {
     "data": {
      "text/plain": [
       "Index(['branch', 'address', 'city', 'zip code', 'january', 'february', 'march',\n",
       "       'april', 'may', 'june', 'july', 'august', 'september', 'october',\n",
       "       'november', 'december', 'ytd'],\n",
       "      dtype='object')"
      ]
     },
     "execution_count": 52,
     "metadata": {},
     "output_type": "execute_result"
    }
   ],
   "source": [
    "#Übersicht der Datenstruktur\n",
    "df11.info()\n",
    "\n",
    "#Erste 5 Zeilen anzeigen\n",
    "df11.head()\n",
    "\n",
    "#Letzte 5 Zeilen anzeigen\n",
    "df11.tail()\n",
    "\n",
    "#Statistische Übersicht\n",
    "df11.describe()\n",
    "\n",
    "#Spaltennamen auflisten\n",
    "df11.columns"
   ]
  },
  {
   "cell_type": "markdown",
   "metadata": {},
   "source": [
    "* How do you get the first/last ten rows of the DataFrame?\n",
    "\n",
    "* How do you get the rows between row 30 and row 40?\n",
    "\n",
    "* How do you get a specific column, e.g., 'year'? What kind of type() has the \n",
    "column?\n",
    "\n",
    "* What is the *.pkl file? How do load it into your program and what are the data contents in it?\n",
    "\n",
    "* What is the purpose of .loc() and .iloc()?\n",
    "\n",
    "* How do you sort values in a column?"
   ]
  },
  {
   "cell_type": "markdown",
   "metadata": {},
   "source": [
    "# How do you get the first/last ten rows of the DataFrame?"
   ]
  },
  {
   "cell_type": "code",
   "execution_count": 54,
   "metadata": {},
   "outputs": [
    {
     "data": {
      "text/html": [
       "<div>\n",
       "<style scoped>\n",
       "    .dataframe tbody tr th:only-of-type {\n",
       "        vertical-align: middle;\n",
       "    }\n",
       "\n",
       "    .dataframe tbody tr th {\n",
       "        vertical-align: top;\n",
       "    }\n",
       "\n",
       "    .dataframe thead th {\n",
       "        text-align: right;\n",
       "    }\n",
       "</style>\n",
       "<table border=\"1\" class=\"dataframe\">\n",
       "  <thead>\n",
       "    <tr style=\"text-align: right;\">\n",
       "      <th></th>\n",
       "      <th>branch</th>\n",
       "      <th>address</th>\n",
       "      <th>city</th>\n",
       "      <th>zip code</th>\n",
       "      <th>january</th>\n",
       "      <th>february</th>\n",
       "      <th>march</th>\n",
       "      <th>april</th>\n",
       "      <th>may</th>\n",
       "      <th>june</th>\n",
       "      <th>july</th>\n",
       "      <th>august</th>\n",
       "      <th>september</th>\n",
       "      <th>october</th>\n",
       "      <th>november</th>\n",
       "      <th>december</th>\n",
       "      <th>ytd</th>\n",
       "    </tr>\n",
       "  </thead>\n",
       "  <tbody>\n",
       "    <tr>\n",
       "      <th>70</th>\n",
       "      <td>Water Works</td>\n",
       "      <td>163 E. Pearson St.</td>\n",
       "      <td>Chicago</td>\n",
       "      <td>60611.0</td>\n",
       "      <td>2609</td>\n",
       "      <td>2870</td>\n",
       "      <td>3718</td>\n",
       "      <td>3529</td>\n",
       "      <td>3669</td>\n",
       "      <td>3666</td>\n",
       "      <td>4099</td>\n",
       "      <td>4292</td>\n",
       "      <td>4138</td>\n",
       "      <td>4321</td>\n",
       "      <td>4219</td>\n",
       "      <td>3917</td>\n",
       "      <td>45047</td>\n",
       "    </tr>\n",
       "    <tr>\n",
       "      <th>71</th>\n",
       "      <td>West Belmont</td>\n",
       "      <td>3104 N. Narragansett Ave.</td>\n",
       "      <td>Chicago</td>\n",
       "      <td>60634.0</td>\n",
       "      <td>8889</td>\n",
       "      <td>8470</td>\n",
       "      <td>11577</td>\n",
       "      <td>11686</td>\n",
       "      <td>9020</td>\n",
       "      <td>10337</td>\n",
       "      <td>11273</td>\n",
       "      <td>10405</td>\n",
       "      <td>9659</td>\n",
       "      <td>11313</td>\n",
       "      <td>11445</td>\n",
       "      <td>9835</td>\n",
       "      <td>123909</td>\n",
       "    </tr>\n",
       "    <tr>\n",
       "      <th>72</th>\n",
       "      <td>West Chicago Avenue</td>\n",
       "      <td>4856 W. Chicago Ave.</td>\n",
       "      <td>Chicago</td>\n",
       "      <td>60651.0</td>\n",
       "      <td>1277</td>\n",
       "      <td>934</td>\n",
       "      <td>1961</td>\n",
       "      <td>2131</td>\n",
       "      <td>2091</td>\n",
       "      <td>2068</td>\n",
       "      <td>1884</td>\n",
       "      <td>2170</td>\n",
       "      <td>2147</td>\n",
       "      <td>2207</td>\n",
       "      <td>1612</td>\n",
       "      <td>1609</td>\n",
       "      <td>22091</td>\n",
       "    </tr>\n",
       "    <tr>\n",
       "      <th>73</th>\n",
       "      <td>West Englewood</td>\n",
       "      <td>1745 W. 63rd St.</td>\n",
       "      <td>Chicago</td>\n",
       "      <td>60636.0</td>\n",
       "      <td>1522</td>\n",
       "      <td>1422</td>\n",
       "      <td>1878</td>\n",
       "      <td>1975</td>\n",
       "      <td>1724</td>\n",
       "      <td>1819</td>\n",
       "      <td>1815</td>\n",
       "      <td>2193</td>\n",
       "      <td>2401</td>\n",
       "      <td>2578</td>\n",
       "      <td>2097</td>\n",
       "      <td>1834</td>\n",
       "      <td>23258</td>\n",
       "    </tr>\n",
       "    <tr>\n",
       "      <th>74</th>\n",
       "      <td>West Lawn</td>\n",
       "      <td>4020 W. 63rd St.</td>\n",
       "      <td>Chicago</td>\n",
       "      <td>60629.0</td>\n",
       "      <td>7606</td>\n",
       "      <td>6076</td>\n",
       "      <td>8552</td>\n",
       "      <td>8896</td>\n",
       "      <td>7313</td>\n",
       "      <td>8150</td>\n",
       "      <td>5703</td>\n",
       "      <td>7723</td>\n",
       "      <td>8201</td>\n",
       "      <td>10621</td>\n",
       "      <td>8101</td>\n",
       "      <td>7980</td>\n",
       "      <td>94922</td>\n",
       "    </tr>\n",
       "    <tr>\n",
       "      <th>75</th>\n",
       "      <td>West Pullman</td>\n",
       "      <td>830 W. 119th St.</td>\n",
       "      <td>Chicago</td>\n",
       "      <td>60643.0</td>\n",
       "      <td>3312</td>\n",
       "      <td>2713</td>\n",
       "      <td>3495</td>\n",
       "      <td>3550</td>\n",
       "      <td>3010</td>\n",
       "      <td>2968</td>\n",
       "      <td>3844</td>\n",
       "      <td>3811</td>\n",
       "      <td>3209</td>\n",
       "      <td>3923</td>\n",
       "      <td>3162</td>\n",
       "      <td>3147</td>\n",
       "      <td>40144</td>\n",
       "    </tr>\n",
       "    <tr>\n",
       "      <th>76</th>\n",
       "      <td>West Town</td>\n",
       "      <td>1625 W. Chicago Ave.</td>\n",
       "      <td>Chicago</td>\n",
       "      <td>60622.0</td>\n",
       "      <td>9030</td>\n",
       "      <td>7727</td>\n",
       "      <td>10450</td>\n",
       "      <td>10607</td>\n",
       "      <td>10139</td>\n",
       "      <td>10410</td>\n",
       "      <td>10601</td>\n",
       "      <td>11311</td>\n",
       "      <td>11084</td>\n",
       "      <td>10657</td>\n",
       "      <td>10797</td>\n",
       "      <td>9275</td>\n",
       "      <td>122088</td>\n",
       "    </tr>\n",
       "    <tr>\n",
       "      <th>77</th>\n",
       "      <td>Whitney M. Young, Jr.</td>\n",
       "      <td>7901 S. King Dr.</td>\n",
       "      <td>Chicago</td>\n",
       "      <td>60619.0</td>\n",
       "      <td>2588</td>\n",
       "      <td>2033</td>\n",
       "      <td>3099</td>\n",
       "      <td>3087</td>\n",
       "      <td>3005</td>\n",
       "      <td>2911</td>\n",
       "      <td>3123</td>\n",
       "      <td>3644</td>\n",
       "      <td>3547</td>\n",
       "      <td>3848</td>\n",
       "      <td>3324</td>\n",
       "      <td>3190</td>\n",
       "      <td>37399</td>\n",
       "    </tr>\n",
       "    <tr>\n",
       "      <th>78</th>\n",
       "      <td>Woodson Regional</td>\n",
       "      <td>9525 S. Halsted St.</td>\n",
       "      <td>Chicago</td>\n",
       "      <td>60628.0</td>\n",
       "      <td>10564</td>\n",
       "      <td>8874</td>\n",
       "      <td>10948</td>\n",
       "      <td>9299</td>\n",
       "      <td>9025</td>\n",
       "      <td>10020</td>\n",
       "      <td>10366</td>\n",
       "      <td>10892</td>\n",
       "      <td>10901</td>\n",
       "      <td>13272</td>\n",
       "      <td>11421</td>\n",
       "      <td>9474</td>\n",
       "      <td>125056</td>\n",
       "    </tr>\n",
       "    <tr>\n",
       "      <th>79</th>\n",
       "      <td>Wrightwood-Ashburn</td>\n",
       "      <td>8530 S. Kedzie Ave.</td>\n",
       "      <td>Chicago</td>\n",
       "      <td>60652.0</td>\n",
       "      <td>3062</td>\n",
       "      <td>2780</td>\n",
       "      <td>3334</td>\n",
       "      <td>3279</td>\n",
       "      <td>3036</td>\n",
       "      <td>3801</td>\n",
       "      <td>4600</td>\n",
       "      <td>3953</td>\n",
       "      <td>3536</td>\n",
       "      <td>4093</td>\n",
       "      <td>3583</td>\n",
       "      <td>3200</td>\n",
       "      <td>42257</td>\n",
       "    </tr>\n",
       "  </tbody>\n",
       "</table>\n",
       "</div>"
      ],
      "text/plain": [
       "                   branch                    address     city  zip code  \\\n",
       "70            Water Works         163 E. Pearson St.  Chicago   60611.0   \n",
       "71           West Belmont  3104 N. Narragansett Ave.  Chicago   60634.0   \n",
       "72    West Chicago Avenue       4856 W. Chicago Ave.  Chicago   60651.0   \n",
       "73         West Englewood           1745 W. 63rd St.  Chicago   60636.0   \n",
       "74              West Lawn           4020 W. 63rd St.  Chicago   60629.0   \n",
       "75           West Pullman           830 W. 119th St.  Chicago   60643.0   \n",
       "76              West Town       1625 W. Chicago Ave.  Chicago   60622.0   \n",
       "77  Whitney M. Young, Jr.           7901 S. King Dr.  Chicago   60619.0   \n",
       "78       Woodson Regional        9525 S. Halsted St.  Chicago   60628.0   \n",
       "79     Wrightwood-Ashburn        8530 S. Kedzie Ave.  Chicago   60652.0   \n",
       "\n",
       "    january  february  march  april    may   june   july  august  september  \\\n",
       "70     2609      2870   3718   3529   3669   3666   4099    4292       4138   \n",
       "71     8889      8470  11577  11686   9020  10337  11273   10405       9659   \n",
       "72     1277       934   1961   2131   2091   2068   1884    2170       2147   \n",
       "73     1522      1422   1878   1975   1724   1819   1815    2193       2401   \n",
       "74     7606      6076   8552   8896   7313   8150   5703    7723       8201   \n",
       "75     3312      2713   3495   3550   3010   2968   3844    3811       3209   \n",
       "76     9030      7727  10450  10607  10139  10410  10601   11311      11084   \n",
       "77     2588      2033   3099   3087   3005   2911   3123    3644       3547   \n",
       "78    10564      8874  10948   9299   9025  10020  10366   10892      10901   \n",
       "79     3062      2780   3334   3279   3036   3801   4600    3953       3536   \n",
       "\n",
       "    october  november  december     ytd  \n",
       "70     4321      4219      3917   45047  \n",
       "71    11313     11445      9835  123909  \n",
       "72     2207      1612      1609   22091  \n",
       "73     2578      2097      1834   23258  \n",
       "74    10621      8101      7980   94922  \n",
       "75     3923      3162      3147   40144  \n",
       "76    10657     10797      9275  122088  \n",
       "77     3848      3324      3190   37399  \n",
       "78    13272     11421      9474  125056  \n",
       "79     4093      3583      3200   42257  "
      ]
     },
     "execution_count": 54,
     "metadata": {},
     "output_type": "execute_result"
    }
   ],
   "source": [
    "#Erste 10 Zeilen bei 2022_circ.csv\n",
    "df22.head(10)\n",
    "#Letzte 10 Zeilen bei 2022_circ.csv\n",
    "df22.tail(10)\n",
    "\n",
    "#Erste 10 Zeilen bei 2011_circ.csv\n",
    "df11.head(10)\n",
    "#Letzte 10 Zeilen bei 2011_circ.csv\n",
    "df11.tail(10)"
   ]
  },
  {
   "cell_type": "markdown",
   "metadata": {},
   "source": [
    "How do you get the rows between row 30 and row 40?"
   ]
  },
  {
   "cell_type": "code",
   "execution_count": 55,
   "metadata": {
    "scrolled": true
   },
   "outputs": [
    {
     "data": {
      "text/html": [
       "<div>\n",
       "<style scoped>\n",
       "    .dataframe tbody tr th:only-of-type {\n",
       "        vertical-align: middle;\n",
       "    }\n",
       "\n",
       "    .dataframe tbody tr th {\n",
       "        vertical-align: top;\n",
       "    }\n",
       "\n",
       "    .dataframe thead th {\n",
       "        text-align: right;\n",
       "    }\n",
       "</style>\n",
       "<table border=\"1\" class=\"dataframe\">\n",
       "  <thead>\n",
       "    <tr style=\"text-align: right;\">\n",
       "      <th></th>\n",
       "      <th>branch</th>\n",
       "      <th>address</th>\n",
       "      <th>city</th>\n",
       "      <th>zip code</th>\n",
       "      <th>january</th>\n",
       "      <th>february</th>\n",
       "      <th>march</th>\n",
       "      <th>april</th>\n",
       "      <th>may</th>\n",
       "      <th>june</th>\n",
       "      <th>july</th>\n",
       "      <th>august</th>\n",
       "      <th>september</th>\n",
       "      <th>october</th>\n",
       "      <th>november</th>\n",
       "      <th>december</th>\n",
       "      <th>ytd</th>\n",
       "    </tr>\n",
       "  </thead>\n",
       "  <tbody>\n",
       "    <tr>\n",
       "      <th>30</th>\n",
       "      <td>Hall</td>\n",
       "      <td>4801 S. Michigan Ave.</td>\n",
       "      <td>Chicago</td>\n",
       "      <td>60615.0</td>\n",
       "      <td>2416</td>\n",
       "      <td>1914</td>\n",
       "      <td>2720</td>\n",
       "      <td>2644</td>\n",
       "      <td>2693</td>\n",
       "      <td>3134</td>\n",
       "      <td>3373</td>\n",
       "      <td>2953</td>\n",
       "      <td>2894</td>\n",
       "      <td>2944</td>\n",
       "      <td>2836</td>\n",
       "      <td>2875</td>\n",
       "      <td>33396</td>\n",
       "    </tr>\n",
       "    <tr>\n",
       "      <th>31</th>\n",
       "      <td>Harold Washington Library Center</td>\n",
       "      <td>400 S. State St.</td>\n",
       "      <td>Chicago</td>\n",
       "      <td>60605.0</td>\n",
       "      <td>79210</td>\n",
       "      <td>67574</td>\n",
       "      <td>89122</td>\n",
       "      <td>88527</td>\n",
       "      <td>82581</td>\n",
       "      <td>82100</td>\n",
       "      <td>80219</td>\n",
       "      <td>85193</td>\n",
       "      <td>81400</td>\n",
       "      <td>82236</td>\n",
       "      <td>79702</td>\n",
       "      <td>68856</td>\n",
       "      <td>966720</td>\n",
       "    </tr>\n",
       "    <tr>\n",
       "      <th>32</th>\n",
       "      <td>Hegewisch</td>\n",
       "      <td>3048 E. 130th St.</td>\n",
       "      <td>Chicago</td>\n",
       "      <td>60633.0</td>\n",
       "      <td>3221</td>\n",
       "      <td>2749</td>\n",
       "      <td>3668</td>\n",
       "      <td>3492</td>\n",
       "      <td>3181</td>\n",
       "      <td>3324</td>\n",
       "      <td>3852</td>\n",
       "      <td>3934</td>\n",
       "      <td>3570</td>\n",
       "      <td>3755</td>\n",
       "      <td>3617</td>\n",
       "      <td>3073</td>\n",
       "      <td>41436</td>\n",
       "    </tr>\n",
       "    <tr>\n",
       "      <th>33</th>\n",
       "      <td>Humboldt Park</td>\n",
       "      <td>1605 N. Troy St.</td>\n",
       "      <td>Chicago</td>\n",
       "      <td>60647.0</td>\n",
       "      <td>6251</td>\n",
       "      <td>5736</td>\n",
       "      <td>7798</td>\n",
       "      <td>8184</td>\n",
       "      <td>7509</td>\n",
       "      <td>7502</td>\n",
       "      <td>7019</td>\n",
       "      <td>7120</td>\n",
       "      <td>6609</td>\n",
       "      <td>7424</td>\n",
       "      <td>6943</td>\n",
       "      <td>6730</td>\n",
       "      <td>84825</td>\n",
       "    </tr>\n",
       "    <tr>\n",
       "      <th>34</th>\n",
       "      <td>Independence</td>\n",
       "      <td>3548 W. Irving Park Rd.</td>\n",
       "      <td>Chicago</td>\n",
       "      <td>60618.0</td>\n",
       "      <td>8860</td>\n",
       "      <td>7653</td>\n",
       "      <td>9773</td>\n",
       "      <td>10897</td>\n",
       "      <td>9401</td>\n",
       "      <td>11998</td>\n",
       "      <td>12958</td>\n",
       "      <td>11913</td>\n",
       "      <td>10682</td>\n",
       "      <td>11534</td>\n",
       "      <td>10603</td>\n",
       "      <td>9614</td>\n",
       "      <td>125886</td>\n",
       "    </tr>\n",
       "    <tr>\n",
       "      <th>35</th>\n",
       "      <td>Jefferson Park</td>\n",
       "      <td>5363 W. Lawrence Ave.</td>\n",
       "      <td>Chicago</td>\n",
       "      <td>60630.0</td>\n",
       "      <td>8819</td>\n",
       "      <td>8308</td>\n",
       "      <td>10663</td>\n",
       "      <td>11099</td>\n",
       "      <td>9422</td>\n",
       "      <td>10735</td>\n",
       "      <td>10591</td>\n",
       "      <td>11447</td>\n",
       "      <td>10447</td>\n",
       "      <td>11033</td>\n",
       "      <td>10757</td>\n",
       "      <td>9755</td>\n",
       "      <td>123076</td>\n",
       "    </tr>\n",
       "    <tr>\n",
       "      <th>36</th>\n",
       "      <td>Jeffery Manor</td>\n",
       "      <td>2401 E. 100th St.</td>\n",
       "      <td>Chicago</td>\n",
       "      <td>60617.0</td>\n",
       "      <td>1223</td>\n",
       "      <td>1115</td>\n",
       "      <td>1757</td>\n",
       "      <td>1811</td>\n",
       "      <td>1429</td>\n",
       "      <td>1531</td>\n",
       "      <td>1437</td>\n",
       "      <td>1702</td>\n",
       "      <td>1554</td>\n",
       "      <td>1684</td>\n",
       "      <td>1613</td>\n",
       "      <td>1463</td>\n",
       "      <td>18319</td>\n",
       "    </tr>\n",
       "    <tr>\n",
       "      <th>37</th>\n",
       "      <td>Kelly</td>\n",
       "      <td>6151 S. Normal Boulevard</td>\n",
       "      <td>Chicago</td>\n",
       "      <td>60621.0</td>\n",
       "      <td>963</td>\n",
       "      <td>827</td>\n",
       "      <td>1315</td>\n",
       "      <td>1143</td>\n",
       "      <td>1004</td>\n",
       "      <td>1384</td>\n",
       "      <td>1585</td>\n",
       "      <td>1918</td>\n",
       "      <td>1705</td>\n",
       "      <td>2200</td>\n",
       "      <td>1729</td>\n",
       "      <td>1575</td>\n",
       "      <td>17348</td>\n",
       "    </tr>\n",
       "    <tr>\n",
       "      <th>38</th>\n",
       "      <td>King</td>\n",
       "      <td>3436 S. King Dr.</td>\n",
       "      <td>Chicago</td>\n",
       "      <td>60616.0</td>\n",
       "      <td>1903</td>\n",
       "      <td>1795</td>\n",
       "      <td>2586</td>\n",
       "      <td>2875</td>\n",
       "      <td>3108</td>\n",
       "      <td>3255</td>\n",
       "      <td>3446</td>\n",
       "      <td>3732</td>\n",
       "      <td>3505</td>\n",
       "      <td>3711</td>\n",
       "      <td>3257</td>\n",
       "      <td>3107</td>\n",
       "      <td>36280</td>\n",
       "    </tr>\n",
       "    <tr>\n",
       "      <th>39</th>\n",
       "      <td>Legler Regional</td>\n",
       "      <td>115 S. Pulaski Rd.</td>\n",
       "      <td>Chicago</td>\n",
       "      <td>60624.0</td>\n",
       "      <td>1344</td>\n",
       "      <td>1080</td>\n",
       "      <td>1635</td>\n",
       "      <td>1699</td>\n",
       "      <td>1425</td>\n",
       "      <td>1690</td>\n",
       "      <td>1485</td>\n",
       "      <td>1075</td>\n",
       "      <td>1866</td>\n",
       "      <td>1791</td>\n",
       "      <td>1795</td>\n",
       "      <td>1602</td>\n",
       "      <td>18487</td>\n",
       "    </tr>\n",
       "    <tr>\n",
       "      <th>40</th>\n",
       "      <td>Lincoln Belmont</td>\n",
       "      <td>1659 W. Melrose St.</td>\n",
       "      <td>Chicago</td>\n",
       "      <td>60657.0</td>\n",
       "      <td>14395</td>\n",
       "      <td>12810</td>\n",
       "      <td>17392</td>\n",
       "      <td>16567</td>\n",
       "      <td>14487</td>\n",
       "      <td>18539</td>\n",
       "      <td>17242</td>\n",
       "      <td>17970</td>\n",
       "      <td>16568</td>\n",
       "      <td>17209</td>\n",
       "      <td>16397</td>\n",
       "      <td>14692</td>\n",
       "      <td>194268</td>\n",
       "    </tr>\n",
       "  </tbody>\n",
       "</table>\n",
       "</div>"
      ],
      "text/plain": [
       "                              branch                   address     city  \\\n",
       "30                              Hall     4801 S. Michigan Ave.  Chicago   \n",
       "31  Harold Washington Library Center          400 S. State St.  Chicago   \n",
       "32                         Hegewisch         3048 E. 130th St.  Chicago   \n",
       "33                     Humboldt Park          1605 N. Troy St.  Chicago   \n",
       "34                      Independence   3548 W. Irving Park Rd.  Chicago   \n",
       "35                    Jefferson Park     5363 W. Lawrence Ave.  Chicago   \n",
       "36                     Jeffery Manor         2401 E. 100th St.  Chicago   \n",
       "37                             Kelly  6151 S. Normal Boulevard  Chicago   \n",
       "38                              King          3436 S. King Dr.  Chicago   \n",
       "39                   Legler Regional        115 S. Pulaski Rd.  Chicago   \n",
       "40                   Lincoln Belmont       1659 W. Melrose St.  Chicago   \n",
       "\n",
       "    zip code  january  february  march  april    may   june   july  august  \\\n",
       "30   60615.0     2416      1914   2720   2644   2693   3134   3373    2953   \n",
       "31   60605.0    79210     67574  89122  88527  82581  82100  80219   85193   \n",
       "32   60633.0     3221      2749   3668   3492   3181   3324   3852    3934   \n",
       "33   60647.0     6251      5736   7798   8184   7509   7502   7019    7120   \n",
       "34   60618.0     8860      7653   9773  10897   9401  11998  12958   11913   \n",
       "35   60630.0     8819      8308  10663  11099   9422  10735  10591   11447   \n",
       "36   60617.0     1223      1115   1757   1811   1429   1531   1437    1702   \n",
       "37   60621.0      963       827   1315   1143   1004   1384   1585    1918   \n",
       "38   60616.0     1903      1795   2586   2875   3108   3255   3446    3732   \n",
       "39   60624.0     1344      1080   1635   1699   1425   1690   1485    1075   \n",
       "40   60657.0    14395     12810  17392  16567  14487  18539  17242   17970   \n",
       "\n",
       "    september  october  november  december     ytd  \n",
       "30       2894     2944      2836      2875   33396  \n",
       "31      81400    82236     79702     68856  966720  \n",
       "32       3570     3755      3617      3073   41436  \n",
       "33       6609     7424      6943      6730   84825  \n",
       "34      10682    11534     10603      9614  125886  \n",
       "35      10447    11033     10757      9755  123076  \n",
       "36       1554     1684      1613      1463   18319  \n",
       "37       1705     2200      1729      1575   17348  \n",
       "38       3505     3711      3257      3107   36280  \n",
       "39       1866     1791      1795      1602   18487  \n",
       "40      16568    17209     16397     14692  194268  "
      ]
     },
     "execution_count": 55,
     "metadata": {},
     "output_type": "execute_result"
    }
   ],
   "source": [
    "#Zeilen von 30 bis 40 bei 2022_circ.csv\n",
    "df22.iloc[30:41]\n",
    "\n",
    "#Zeilen von 30 bis 40 bei 2011_circ.csv\n",
    "df11.iloc[30:41]"
   ]
  },
  {
   "cell_type": "markdown",
   "metadata": {},
   "source": [
    "# How do you get a specific column, e.g., 'year'? What kind of type() has the column?"
   ]
  },
  {
   "cell_type": "code",
   "execution_count": 62,
   "metadata": {
    "scrolled": true
   },
   "outputs": [
    {
     "data": {
      "text/plain": [
       "0       4856 W. Chicago Ave.\n",
       "1            415 E. 79th St.\n",
       "2        9525 S. Halsted St.\n",
       "3           1962 W. 95th St.\n",
       "4        5055 S. Archer Ave.\n",
       "               ...          \n",
       "76    2100 S. Wentworth Ave.\n",
       "77          1350 W. 89th St.\n",
       "78       4314 S. Archer Ave.\n",
       "79      9055 S. Houston Ave.\n",
       "80         3647 S. State St.\n",
       "Name: address, Length: 81, dtype: object"
      ]
     },
     "execution_count": 62,
     "metadata": {},
     "output_type": "execute_result"
    }
   ],
   "source": [
    "df[\"address\"]"
   ]
  },
  {
   "cell_type": "code",
   "execution_count": 63,
   "metadata": {},
   "outputs": [
    {
     "data": {
      "text/plain": [
       "pandas.core.series.Series"
      ]
     },
     "execution_count": 63,
     "metadata": {},
     "output_type": "execute_result"
    }
   ],
   "source": [
    "type(df[\"address\"])"
   ]
  },
  {
   "cell_type": "markdown",
   "metadata": {},
   "source": [
    "# What is the *.pkl file? How do load it into your program and what are the data contents in it?"
   ]
  },
  {
   "cell_type": "code",
   "execution_count": 81,
   "metadata": {},
   "outputs": [],
   "source": [
    "#Erklärung: .pkl sind serialisierte Pandas DataFrames, die verwendet werden, um Datenstrukturen effizient zu speichern und wiederherzustellen."
   ]
  },
  {
   "cell_type": "markdown",
   "metadata": {},
   "source": [
    "# What is the purpose of .loc() and .iloc()?"
   ]
  },
  {
   "cell_type": "code",
   "execution_count": 72,
   "metadata": {},
   "outputs": [
    {
     "data": {
      "text/plain": [
       "branch               Manning\n",
       "address      6 S. Hoyne Ave.\n",
       "city                 Chicago\n",
       "zip code             60612.0\n",
       "january                  574\n",
       "february                 652\n",
       "march                   1026\n",
       "april                    924\n",
       "may                     1185\n",
       "june                    1063\n",
       "july                    1401\n",
       "august                  1218\n",
       "september               1080\n",
       "october                  976\n",
       "november                 972\n",
       "december                 798\n",
       "ytd                    11869\n",
       "Name: 5, dtype: object"
      ]
     },
     "execution_count": 72,
     "metadata": {},
     "output_type": "execute_result"
    }
   ],
   "source": [
    "#Wählt Zeile mit Label 5\n",
    "df.loc[5]\n",
    "#Wählt die fünfte Zeile (Index-basiert)\n",
    "df.iloc[5]"
   ]
  },
  {
   "cell_type": "markdown",
   "metadata": {},
   "source": [
    "# How do you sort values in a column?"
   ]
  },
  {
   "cell_type": "code",
   "execution_count": 79,
   "metadata": {},
   "outputs": [
    {
     "data": {
      "text/html": [
       "<div>\n",
       "<style scoped>\n",
       "    .dataframe tbody tr th:only-of-type {\n",
       "        vertical-align: middle;\n",
       "    }\n",
       "\n",
       "    .dataframe tbody tr th {\n",
       "        vertical-align: top;\n",
       "    }\n",
       "\n",
       "    .dataframe thead th {\n",
       "        text-align: right;\n",
       "    }\n",
       "</style>\n",
       "<table border=\"1\" class=\"dataframe\">\n",
       "  <thead>\n",
       "    <tr style=\"text-align: right;\">\n",
       "      <th></th>\n",
       "      <th>branch</th>\n",
       "      <th>address</th>\n",
       "      <th>city</th>\n",
       "      <th>zip code</th>\n",
       "      <th>january</th>\n",
       "      <th>february</th>\n",
       "      <th>march</th>\n",
       "      <th>april</th>\n",
       "      <th>may</th>\n",
       "      <th>june</th>\n",
       "      <th>july</th>\n",
       "      <th>august</th>\n",
       "      <th>september</th>\n",
       "      <th>october</th>\n",
       "      <th>november</th>\n",
       "      <th>december</th>\n",
       "      <th>ytd</th>\n",
       "    </tr>\n",
       "  </thead>\n",
       "  <tbody>\n",
       "    <tr>\n",
       "      <th>48</th>\n",
       "      <td>Wrightwood-Ashburn</td>\n",
       "      <td>8530 S. Kedzie Ave.</td>\n",
       "      <td>Chicago</td>\n",
       "      <td>60652.0</td>\n",
       "      <td>744</td>\n",
       "      <td>581</td>\n",
       "      <td>816</td>\n",
       "      <td>1114</td>\n",
       "      <td>689</td>\n",
       "      <td>819</td>\n",
       "      <td>482</td>\n",
       "      <td>860</td>\n",
       "      <td>766</td>\n",
       "      <td>733</td>\n",
       "      <td>671</td>\n",
       "      <td>575</td>\n",
       "      <td>8850</td>\n",
       "    </tr>\n",
       "    <tr>\n",
       "      <th>2</th>\n",
       "      <td>Woodson Regional</td>\n",
       "      <td>9525 S. Halsted St.</td>\n",
       "      <td>Chicago</td>\n",
       "      <td>60628.0</td>\n",
       "      <td>1891</td>\n",
       "      <td>1810</td>\n",
       "      <td>2255</td>\n",
       "      <td>2429</td>\n",
       "      <td>2264</td>\n",
       "      <td>2207</td>\n",
       "      <td>2150</td>\n",
       "      <td>1960</td>\n",
       "      <td>2021</td>\n",
       "      <td>2257</td>\n",
       "      <td>1970</td>\n",
       "      <td>1788</td>\n",
       "      <td>25002</td>\n",
       "    </tr>\n",
       "    <tr>\n",
       "      <th>1</th>\n",
       "      <td>Whitney M. Young, Jr.</td>\n",
       "      <td>415 E. 79th St.</td>\n",
       "      <td>Chicago</td>\n",
       "      <td>60619.0</td>\n",
       "      <td>674</td>\n",
       "      <td>579</td>\n",
       "      <td>772</td>\n",
       "      <td>651</td>\n",
       "      <td>619</td>\n",
       "      <td>648</td>\n",
       "      <td>835</td>\n",
       "      <td>713</td>\n",
       "      <td>660</td>\n",
       "      <td>703</td>\n",
       "      <td>602</td>\n",
       "      <td>585</td>\n",
       "      <td>8041</td>\n",
       "    </tr>\n",
       "    <tr>\n",
       "      <th>74</th>\n",
       "      <td>West Town</td>\n",
       "      <td>1625 W. Chicago Ave.</td>\n",
       "      <td>Chicago</td>\n",
       "      <td>60622.0</td>\n",
       "      <td>4375</td>\n",
       "      <td>3887</td>\n",
       "      <td>4775</td>\n",
       "      <td>4450</td>\n",
       "      <td>4199</td>\n",
       "      <td>4959</td>\n",
       "      <td>4901</td>\n",
       "      <td>4700</td>\n",
       "      <td>4107</td>\n",
       "      <td>4546</td>\n",
       "      <td>4642</td>\n",
       "      <td>3918</td>\n",
       "      <td>53459</td>\n",
       "    </tr>\n",
       "    <tr>\n",
       "      <th>18</th>\n",
       "      <td>West Pullman</td>\n",
       "      <td>830 W. 119th St.</td>\n",
       "      <td>Chicago</td>\n",
       "      <td>60643.0</td>\n",
       "      <td>592</td>\n",
       "      <td>700</td>\n",
       "      <td>686</td>\n",
       "      <td>817</td>\n",
       "      <td>641</td>\n",
       "      <td>750</td>\n",
       "      <td>732</td>\n",
       "      <td>720</td>\n",
       "      <td>900</td>\n",
       "      <td>761</td>\n",
       "      <td>577</td>\n",
       "      <td>578</td>\n",
       "      <td>8454</td>\n",
       "    </tr>\n",
       "    <tr>\n",
       "      <th>...</th>\n",
       "      <td>...</td>\n",
       "      <td>...</td>\n",
       "      <td>...</td>\n",
       "      <td>...</td>\n",
       "      <td>...</td>\n",
       "      <td>...</td>\n",
       "      <td>...</td>\n",
       "      <td>...</td>\n",
       "      <td>...</td>\n",
       "      <td>...</td>\n",
       "      <td>...</td>\n",
       "      <td>...</td>\n",
       "      <td>...</td>\n",
       "      <td>...</td>\n",
       "      <td>...</td>\n",
       "      <td>...</td>\n",
       "      <td>...</td>\n",
       "    </tr>\n",
       "    <tr>\n",
       "      <th>46</th>\n",
       "      <td>Austin-Irving</td>\n",
       "      <td>6100 W. Irving Park Rd.</td>\n",
       "      <td>Chicago</td>\n",
       "      <td>60634.0</td>\n",
       "      <td>5054</td>\n",
       "      <td>4857</td>\n",
       "      <td>5787</td>\n",
       "      <td>5604</td>\n",
       "      <td>4626</td>\n",
       "      <td>5883</td>\n",
       "      <td>6068</td>\n",
       "      <td>5834</td>\n",
       "      <td>5419</td>\n",
       "      <td>4917</td>\n",
       "      <td>4976</td>\n",
       "      <td>4457</td>\n",
       "      <td>63482</td>\n",
       "    </tr>\n",
       "    <tr>\n",
       "      <th>40</th>\n",
       "      <td>Austin</td>\n",
       "      <td>5615 W. Race Ave.</td>\n",
       "      <td>Chicago</td>\n",
       "      <td>60644.0</td>\n",
       "      <td>521</td>\n",
       "      <td>576</td>\n",
       "      <td>667</td>\n",
       "      <td>644</td>\n",
       "      <td>524</td>\n",
       "      <td>643</td>\n",
       "      <td>592</td>\n",
       "      <td>573</td>\n",
       "      <td>747</td>\n",
       "      <td>683</td>\n",
       "      <td>666</td>\n",
       "      <td>753</td>\n",
       "      <td>7589</td>\n",
       "    </tr>\n",
       "    <tr>\n",
       "      <th>4</th>\n",
       "      <td>Archer Heights</td>\n",
       "      <td>5055 S. Archer Ave.</td>\n",
       "      <td>Chicago</td>\n",
       "      <td>60632.0</td>\n",
       "      <td>2341</td>\n",
       "      <td>2131</td>\n",
       "      <td>2628</td>\n",
       "      <td>2690</td>\n",
       "      <td>2049</td>\n",
       "      <td>2432</td>\n",
       "      <td>2505</td>\n",
       "      <td>2377</td>\n",
       "      <td>2259</td>\n",
       "      <td>2054</td>\n",
       "      <td>2099</td>\n",
       "      <td>1778</td>\n",
       "      <td>27343</td>\n",
       "    </tr>\n",
       "    <tr>\n",
       "      <th>21</th>\n",
       "      <td>Altgeld</td>\n",
       "      <td>955 E. 131st St.</td>\n",
       "      <td>Chicago</td>\n",
       "      <td>60827.0</td>\n",
       "      <td>150</td>\n",
       "      <td>139</td>\n",
       "      <td>179</td>\n",
       "      <td>289</td>\n",
       "      <td>297</td>\n",
       "      <td>198</td>\n",
       "      <td>257</td>\n",
       "      <td>229</td>\n",
       "      <td>314</td>\n",
       "      <td>223</td>\n",
       "      <td>173</td>\n",
       "      <td>193</td>\n",
       "      <td>2641</td>\n",
       "    </tr>\n",
       "    <tr>\n",
       "      <th>29</th>\n",
       "      <td>Albany Park</td>\n",
       "      <td>3401 W. Foster Ave.</td>\n",
       "      <td>Chicago</td>\n",
       "      <td>60625.0</td>\n",
       "      <td>5561</td>\n",
       "      <td>5082</td>\n",
       "      <td>5921</td>\n",
       "      <td>5671</td>\n",
       "      <td>4666</td>\n",
       "      <td>5392</td>\n",
       "      <td>5985</td>\n",
       "      <td>5697</td>\n",
       "      <td>5316</td>\n",
       "      <td>4955</td>\n",
       "      <td>5416</td>\n",
       "      <td>4824</td>\n",
       "      <td>64486</td>\n",
       "    </tr>\n",
       "  </tbody>\n",
       "</table>\n",
       "<p>81 rows × 17 columns</p>\n",
       "</div>"
      ],
      "text/plain": [
       "                   branch                  address     city  zip code  \\\n",
       "48     Wrightwood-Ashburn      8530 S. Kedzie Ave.  Chicago   60652.0   \n",
       "2        Woodson Regional      9525 S. Halsted St.  Chicago   60628.0   \n",
       "1   Whitney M. Young, Jr.          415 E. 79th St.  Chicago   60619.0   \n",
       "74              West Town     1625 W. Chicago Ave.  Chicago   60622.0   \n",
       "18           West Pullman         830 W. 119th St.  Chicago   60643.0   \n",
       "..                    ...                      ...      ...       ...   \n",
       "46          Austin-Irving  6100 W. Irving Park Rd.  Chicago   60634.0   \n",
       "40                 Austin        5615 W. Race Ave.  Chicago   60644.0   \n",
       "4          Archer Heights      5055 S. Archer Ave.  Chicago   60632.0   \n",
       "21                Altgeld         955 E. 131st St.  Chicago   60827.0   \n",
       "29            Albany Park      3401 W. Foster Ave.  Chicago   60625.0   \n",
       "\n",
       "    january  february  march  april   may  june  july  august  september  \\\n",
       "48      744       581    816   1114   689   819   482     860        766   \n",
       "2      1891      1810   2255   2429  2264  2207  2150    1960       2021   \n",
       "1       674       579    772    651   619   648   835     713        660   \n",
       "74     4375      3887   4775   4450  4199  4959  4901    4700       4107   \n",
       "18      592       700    686    817   641   750   732     720        900   \n",
       "..      ...       ...    ...    ...   ...   ...   ...     ...        ...   \n",
       "46     5054      4857   5787   5604  4626  5883  6068    5834       5419   \n",
       "40      521       576    667    644   524   643   592     573        747   \n",
       "4      2341      2131   2628   2690  2049  2432  2505    2377       2259   \n",
       "21      150       139    179    289   297   198   257     229        314   \n",
       "29     5561      5082   5921   5671  4666  5392  5985    5697       5316   \n",
       "\n",
       "    october  november  december    ytd  \n",
       "48      733       671       575   8850  \n",
       "2      2257      1970      1788  25002  \n",
       "1       703       602       585   8041  \n",
       "74     4546      4642      3918  53459  \n",
       "18      761       577       578   8454  \n",
       "..      ...       ...       ...    ...  \n",
       "46     4917      4976      4457  63482  \n",
       "40      683       666       753   7589  \n",
       "4      2054      2099      1778  27343  \n",
       "21      223       173       193   2641  \n",
       "29     4955      5416      4824  64486  \n",
       "\n",
       "[81 rows x 17 columns]"
      ]
     },
     "execution_count": 79,
     "metadata": {},
     "output_type": "execute_result"
    }
   ],
   "source": [
    "df.sort_values(by=\"branch\", ascending=False)"
   ]
  }
 ],
 "metadata": {
  "kernelspec": {
   "display_name": "Python 3 (ipykernel)",
   "language": "python",
   "name": "python3"
  },
  "language_info": {
   "codemirror_mode": {
    "name": "ipython",
    "version": 3
   },
   "file_extension": ".py",
   "mimetype": "text/x-python",
   "name": "python",
   "nbconvert_exporter": "python",
   "pygments_lexer": "ipython3",
   "version": "3.9.7"
  }
 },
 "nbformat": 4,
 "nbformat_minor": 2
}
